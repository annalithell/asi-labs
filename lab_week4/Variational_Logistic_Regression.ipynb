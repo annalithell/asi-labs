{
  "cells": [
    {
      "cell_type": "markdown",
      "metadata": {
        "tags": [],
        "id": "cgxu7lLYb9W6"
      },
      "source": [
        "# Advanced Statistical Inference -- Variational Inference for Bayesian Logistic Regression"
      ]
    },
    {
      "cell_type": "markdown",
      "metadata": {
        "jp-MarkdownHeadingCollapsed": true,
        "tags": [],
        "id": "LdC67PhNb9W7"
      },
      "source": [
        "In this notebook, you will learn how to implement the (stochastic) variational inference algorithm.\n",
        "The gist below will serve you as a refresh on variational inference.\n",
        "For additional information, please check the lecture notes.\n",
        "\n",
        "In the general setting, given a probabilistic model with observations $\\{\\boldsymbol{X},\\boldsymbol{y}\\}$, model parameters $\\boldsymbol{w}$ and likelihood $p(\\boldsymbol{y}|\\boldsymbol{X}, \\boldsymbol{w})$, by introducing an approximate posterior distribution $q_\\theta(\\boldsymbol{w})$ with parameters $\\theta$, the variational lower bound to the log-marginal likelihood is defined as\n",
        "\n",
        "\n",
        "$$\\mathrm{KL}[{q_\\theta(\\boldsymbol{w})}||{p(\\boldsymbol{w}|\\boldsymbol{X},\\boldsymbol{y})}] = -\\mathbb{E}_{q_{\\theta}}\\log p(\\boldsymbol{y}|\\boldsymbol{X}, \\boldsymbol{w}) +  \\mathrm{KL}[{q_{\\theta}(\\boldsymbol{w})}||{p(\\boldsymbol{w})}] + \\log p(\\boldsymbol{y}|\\boldsymbol{X}) $$\n",
        "\n",
        "\n",
        "The objective is then to maximize this variational bound (or evidence lower bound) - the ELBO:\n",
        "\n",
        "$$\n",
        "      \\mathcal{L}(\\theta) = \\underbrace{\\mathbb{E}_{q_{\\theta}}\\log p(\\boldsymbol{y}|\\boldsymbol{X}, \\boldsymbol{w})}_\\text{Expected loglikelihood} -  \\mathrm{KL}[{q_{\\theta}(\\boldsymbol{w})}||{p(\\boldsymbol{w})}]\n",
        "$$\n",
        "\n",
        "The analytic evaluation of the ELBO is generally still untractable due to the presence of the expected loglikelihood under the variational distribution (in the majority of  cases the rightmost KL is tractable).\n",
        "This is commonly overcome by sampling $N_\\mathrm{MC}$ times from $q_\\theta$  using the reparameterization trick\n",
        "\n",
        "$$\n",
        "    \\mathbb{E}_{q_{\\theta}}\\log p(\\boldsymbol{y}|\\boldsymbol{X}, \\boldsymbol{w}) \\approx \\dfrac{1}{N_\\mathrm{MC}} \\sum_{\\tilde{\\boldsymbol{w}}_i\\sim q_\\theta} \\log p(\\boldsymbol{y}|\\boldsymbol{X}, \\tilde{\\boldsymbol{w}}_i)\n",
        "$$"
      ]
    },
    {
      "cell_type": "code",
      "execution_count": 1,
      "metadata": {
        "id": "GPagThDcb9W7"
      },
      "outputs": [],
      "source": [
        "import jax\n",
        "import jax.numpy as jnp\n",
        "import matplotlib.pyplot as plt\n",
        "import numpy as np\n",
        "import pandas as pd\n",
        "import seaborn as sns\n",
        "from matplotlib import rc\n",
        "from tqdm.notebook import tqdm\n",
        "\n",
        "dark = True\n",
        "colab = \"google.colab\" in str(get_ipython())\n",
        "preamble = r\"\"\"\\renewcommand{\\familydefault}{\\sfdefault}\\usepackage{sansmath}\n",
        "\\usepackage{FiraSans}\\sansmath\\usepackage{amsmath}\"\"\"\n",
        "\n",
        "rc(\"font\", **{\"family\": \"sans-serif\", \"sans-serif\": \"DejaVu Sans\"})\n",
        "rc(\"text\", **{\"usetex\": False, \"latex.preamble\": preamble})\n",
        "rc(\"figure\", **{\"dpi\": 200})\n",
        "rc(\n",
        "    \"axes\",\n",
        "    **{\"spines.right\": False, \"spines.top\": False, \"xmargin\": 0.0, \"ymargin\": 0.05}\n",
        ")"
      ]
    },
    {
      "cell_type": "markdown",
      "metadata": {
        "tags": [],
        "id": "GmmDLd0Bb9W8"
      },
      "source": [
        "## Library and coding\n",
        "\n",
        "This lab is heavily built on JAX. You already used JAX during the lab on Gaussian process regression when you took advantage of the automatic differentation engine to optimize the kernel parameters, without manually writing the derivatives by hand.\n",
        "This time, we will this same auto-diff engine to optimize our variational objective, but we will also take advantage of another key charateristic of JAX: automatic vectorization. This will allow us to efficiently parallelize the computation of the expected likelihood.\n",
        "\n",
        "\n",
        "Below, you have a short tutorial on how this works.\n",
        "\n",
        "**Note**: This notebook is computationally more intensive than the previous ones (cells may run for up to 1 minute). If you are using Google Colab, you can speed up the computation by switching to a GPU runtime. Behind the scenes, JAX will automatically take care of the GPU acceleration for you.\n",
        "\n",
        "Consider the following simple code that computes the convolution of two one-dimensional vectors:"
      ]
    },
    {
      "cell_type": "code",
      "execution_count": 2,
      "metadata": {
        "colab": {
          "base_uri": "https://localhost:8080/"
        },
        "id": "CbYJhAiab9W8",
        "outputId": "4e432896-435c-4e44-b57e-78ed22cf029b"
      },
      "outputs": [
        {
          "output_type": "stream",
          "name": "stdout",
          "text": [
            "x = [0. 1. 2. 3. 4.]\n",
            "w = [2. 3. 4.]\n",
            "y = [11. 20. 29.]\n"
          ]
        }
      ],
      "source": [
        "x = jnp.array([0.0, 1.0, 2.0, 3.0, 4.0])\n",
        "w = jnp.array([2.0, 3.0, 4.0])\n",
        "\n",
        "\n",
        "def convolve(x, w):\n",
        "    y = []\n",
        "    for i in range(1, len(x) - 1):\n",
        "        y.append(jnp.dot(x[i - 1 : i + 2], w))\n",
        "    return jnp.array(y)\n",
        "\n",
        "\n",
        "y = convolve(x, w)\n",
        "\n",
        "print(f\"x = {x}\\nw = {w}\\ny = {y}\")"
      ]
    },
    {
      "cell_type": "markdown",
      "metadata": {
        "id": "upbGPertb9W8"
      },
      "source": [
        "Suppose we would like to apply this function to a batch of weights `w` to a batch of vectors `x`"
      ]
    },
    {
      "cell_type": "code",
      "execution_count": 3,
      "metadata": {
        "colab": {
          "base_uri": "https://localhost:8080/"
        },
        "id": "0clziAn7b9W8",
        "outputId": "1900c2bb-2106-4fb0-b710-3408cb0edbbb"
      },
      "outputs": [
        {
          "output_type": "stream",
          "name": "stdout",
          "text": [
            "X = \n",
            "[[0. 1. 2. 3. 4.]\n",
            " [0. 2. 4. 6. 8.]]\n",
            "\n",
            "W =\n",
            "[[2. 3. 4.]\n",
            " [4. 6. 8.]]\n"
          ]
        }
      ],
      "source": [
        "X = jnp.stack([x, 2 * x])\n",
        "W = jnp.stack([w, 2 * w])\n",
        "\n",
        "print(f\"X = \\n{X}\\n\\nW =\\n{W}\")"
      ]
    },
    {
      "cell_type": "markdown",
      "metadata": {
        "id": "u0pHrZTlb9W8"
      },
      "source": [
        "The most naive option would be to simply loop over the batch in Python and then stack the results; this produces the correct result, however it is not very efficient.\n",
        "In order to batch the computation efficiently, you would normally have to rewrite the function manually to ensure it is done in vectorized form.\n",
        "This is not particularly difficult to implement for this particular example, but does involve changing how the function treats indices, axes, and other parts of the input.\n",
        "Such re-implementation can become messy to understand and error-prone; fortunately JAX provides another way.\n",
        "In JAX, the `jax.vmap` transformation is designed to generate such a vectorized implementation of a function automatically:"
      ]
    },
    {
      "cell_type": "code",
      "execution_count": 4,
      "metadata": {
        "colab": {
          "base_uri": "https://localhost:8080/"
        },
        "id": "YLz0Uu25b9W8",
        "outputId": "adbab676-0b22-476d-b431-3b44a141e791"
      },
      "outputs": [
        {
          "output_type": "stream",
          "name": "stdout",
          "text": [
            "X = \n",
            "[[0. 1. 2. 3. 4.]\n",
            " [0. 2. 4. 6. 8.]]\n",
            "W =  \n",
            "[[2. 3. 4.]\n",
            " [4. 6. 8.]]\n",
            "Y =  \n",
            "[[ 11.  20.  29.]\n",
            " [ 44.  80. 116.]]\n"
          ]
        }
      ],
      "source": [
        "Y = jax.vmap(convolve)(X, W)\n",
        "print(f\"X = \\n{X}\\nW =  \\n{W}\\nY =  \\n{Y}\")"
      ]
    },
    {
      "cell_type": "markdown",
      "metadata": {
        "id": "IB7-bhP_b9W8"
      },
      "source": [
        "Additional you can control what to vectorize using `in_axes=[...]`. For example, if you would like to convolve to a single set of weights `w` with a batch of vectors `X` you need to choose `in_axes=[0, None]`: this means \"vectorize on the axis 0 of the first arg but do *not* vectorize on the second arg"
      ]
    },
    {
      "cell_type": "code",
      "execution_count": 5,
      "metadata": {
        "colab": {
          "base_uri": "https://localhost:8080/"
        },
        "id": "gy1K8aTvb9W9",
        "outputId": "bee66a10-fecd-4188-fead-80c18402cc4c"
      },
      "outputs": [
        {
          "output_type": "stream",
          "name": "stdout",
          "text": [
            "X = \n",
            "[[0. 1. 2. 3. 4.]\n",
            " [0. 2. 4. 6. 8.]]\n",
            "w = \n",
            "[2. 3. 4.]\n",
            "Y =  \n",
            "[[11. 20. 29.]\n",
            " [22. 40. 58.]]\n"
          ]
        }
      ],
      "source": [
        "Y = jax.vmap(convolve, in_axes=[0, None])(X, w)\n",
        "print(f\"X = \\n{X}\\nw = \\n{w}\\nY =  \\n{Y}\")"
      ]
    },
    {
      "cell_type": "markdown",
      "metadata": {
        "id": "bcbJhk5nb9W9"
      },
      "source": [
        "Finally, this `vmap` can be also used as decorator, thus keeping the code cleaner\n",
        "\n",
        "The Pythonic way to improve the code is to use a decorator and a `partial` function to specify the arguments that should be vectorized.\n",
        "This is a very powerful feature of JAX, and it is used extensively in the code below.\n",
        "The `partial` function allows you to specify the arguments of `vmap` (in this case the `in_axes` argument) without having to rewrite the function itself.\n"
      ]
    },
    {
      "cell_type": "code",
      "execution_count": 6,
      "metadata": {
        "tags": [],
        "colab": {
          "base_uri": "https://localhost:8080/"
        },
        "id": "68fyCY7Bb9W9",
        "outputId": "94c1fc8c-0d10-4b87-b098-3bbbcecd6588"
      },
      "outputs": [
        {
          "output_type": "stream",
          "name": "stdout",
          "text": [
            "X = \n",
            "[[0. 1. 2. 3. 4.]\n",
            " [0. 2. 4. 6. 8.]]\n",
            "w =\n",
            " [2. 3. 4.]\n",
            "Y =  \n",
            "[[11. 20. 29.]\n",
            " [22. 40. 58.]]\n"
          ]
        }
      ],
      "source": [
        "from functools import partial\n",
        "\n",
        "@partial(jax.vmap, in_axes=[0, None])\n",
        "def convolve(x, w):\n",
        "    y = []\n",
        "    for i in range(1, len(x) - 1):\n",
        "        y.append(jnp.dot(x[i - 1 : i + 2], w))\n",
        "    return jnp.array(y)\n",
        "\n",
        "\n",
        "Y = convolve(X, w)\n",
        "print(f\"X = \\n{X}\\nw =\\n {w}\\nY =  \\n{Y}\")"
      ]
    },
    {
      "cell_type": "markdown",
      "metadata": {
        "id": "fasv4xARb9W9"
      },
      "source": [
        "In just 1 line of code, we have vectorized the function with respet to one of its arguments, without having to change the function itself.\n",
        "\n",
        "You can build very complex functions using this approach: just start from the basic building blocks and use `vmap` to vectorize them."
      ]
    },
    {
      "cell_type": "markdown",
      "metadata": {
        "tags": [],
        "id": "siOSftrRb9W-"
      },
      "source": [
        "### Random number generation in JAX\n",
        "To fully exploit the automatic vectorization of JAX, we will need to switch from the Numpy's random generation to JAX's.\n",
        "The main difference is that JAX is explicit on the definition and usage of the random seed."
      ]
    },
    {
      "cell_type": "code",
      "execution_count": 7,
      "metadata": {
        "colab": {
          "base_uri": "https://localhost:8080/"
        },
        "id": "C1Rq1oejb9W-",
        "outputId": "a7d4ba79-b9f9-47c9-9e49-d28ba5153629"
      },
      "outputs": [
        {
          "output_type": "stream",
          "name": "stdout",
          "text": [
            "0.947667\n"
          ]
        }
      ],
      "source": [
        "rng = jax.random.PRNGKey(0)\n",
        "print(jax.random.uniform(rng))"
      ]
    },
    {
      "cell_type": "markdown",
      "metadata": {
        "id": "MG-Az7CLb9W-"
      },
      "source": [
        "This also means that in order to have \"true\" random number generation, we need to manually advance the random seed. **The rule of thumb is: never reuse keys (unless you want identical outputs).**\n",
        "In order to generate different and independent samples, you must `split()` the key *yourself* whenever you want to call a random function:"
      ]
    },
    {
      "cell_type": "code",
      "execution_count": 8,
      "metadata": {
        "colab": {
          "base_uri": "https://localhost:8080/"
        },
        "id": "DlRDs25qb9W-",
        "outputId": "16fe66da-df80-43d2-c3bf-95502b10df6b"
      },
      "outputs": [
        {
          "output_type": "stream",
          "name": "stdout",
          "text": [
            "rng [0 0] --> uniform 0.947667\n",
            "    \\---SPLIT --> new_rng [ 928981903 3453687069] --> uniform 0.0072938204\n"
          ]
        }
      ],
      "source": [
        "print(\"rng\", rng, \"--> uniform\", jax.random.uniform(rng))\n",
        "rng, new_rng = jax.random.split(rng)\n",
        "normal_sample = jax.random.uniform(new_rng)\n",
        "print(r\"    \\---SPLIT --> new_rng\", new_rng, \"--> uniform\", jax.random.uniform(new_rng))"
      ]
    },
    {
      "cell_type": "markdown",
      "metadata": {
        "id": "G3QleanRb9W-"
      },
      "source": [
        "While all this sounds exceedingly over-complicated, it also allows to very easily vectorize using `jax.vmap` functions that works on random samples. Take a look at the next cell and try to understand what is going on here.\n",
        "\n",
        "“Apply take_square to each row (key) of multiple_rng, in parallel.”"
      ]
    },
    {
      "cell_type": "code",
      "execution_count": 9,
      "metadata": {
        "colab": {
          "base_uri": "https://localhost:8080/"
        },
        "id": "O3PdU87Pb9W-",
        "outputId": "c172903d-788d-42ce-a2f7-088a1e7df9ff"
      },
      "outputs": [
        {
          "output_type": "stream",
          "name": "stdout",
          "text": [
            "[0.07993058 0.01087648 0.05220539 0.40073746 0.80360603 0.7290857\n",
            " 0.06019844 0.01839877 0.09836758 0.11087253]\n"
          ]
        }
      ],
      "source": [
        "def take_square(rng):\n",
        "    x = jax.random.uniform(rng)\n",
        "    return x**2\n",
        "\n",
        "\n",
        "multiple_rng = jax.random.split(rng, 10)\n",
        "print(jax.vmap(take_square)(multiple_rng))"
      ]
    },
    {
      "cell_type": "markdown",
      "metadata": {
        "id": "TMHTxDh0b9W-"
      },
      "source": [
        "**Exercise**: Test if you understood the code above. Write a function that take a random key and a constant, generates a Gaussian random variable with mean 0 and variance 1, adds the contant, and returns the result.\n",
        "Then, use `jax.vmap` to generate a batch of 20 random variables, with the same constant added to each of them (hint: you need to vmap on the first argument, not the second one). Try to use the decorator style, as shown above."
      ]
    },
    {
      "cell_type": "code",
      "execution_count": 10,
      "metadata": {
        "colab": {
          "base_uri": "https://localhost:8080/"
        },
        "id": "TWh8TJtDb9W-",
        "outputId": "9192bb09-5101-4b11-ace3-82c8f175bbd0"
      },
      "outputs": [
        {
          "output_type": "stream",
          "name": "stdout",
          "text": [
            "[4.42522   3.7425222 4.2561545 5.3399115 6.2615285 6.053156  4.310816\n",
            " 3.89989   4.51443   4.568288  4.6577816 6.2780547 5.8579965 6.1685214\n",
            " 4.2157717 3.9415426 3.952939  5.948308  4.6368456 6.763179 ]\n"
          ]
        }
      ],
      "source": [
        "## input: random key and a constant\n",
        "# method:\n",
        "# - generate gaussian random variable, mean 0 and variance 1.\n",
        "# - add constant\n",
        "# - return result\n",
        "\n",
        "# use jax.vmap to generate batch of 20 random variables\n",
        "# add the same constant to each of them\n",
        "\n",
        "# hint: use vmap on first argument, not the second one.\n",
        "\n",
        "#@<something>(...)\n",
        "@partial(jax.vmap, in_axes=[0, None])\n",
        "def test_function(rng, k):\n",
        "  return jax.random.normal(rng) + k\n",
        "\n",
        "multiple_rng = jax.random.split(rng, 20)\n",
        "# Pass k as a positional argument to match in_axes=[0, None]\n",
        "out = test_function(multiple_rng, 5)\n",
        "\n",
        "print(out)"
      ]
    },
    {
      "cell_type": "markdown",
      "metadata": {
        "id": "HKjhCQ2Eb9W-"
      },
      "source": [
        "# 1. Setup and data\n",
        "\n",
        "Similarly to the previous lab, you’re going to implement the VI algorithm described in the lecture for binary classification."
      ]
    },
    {
      "cell_type": "code",
      "execution_count": 11,
      "metadata": {
        "tags": [],
        "id": "aK9YDptbb9W-"
      },
      "outputs": [],
      "source": [
        "def plot_data(X, y, ax):\n",
        "    mask = y == 1\n",
        "    config = dict(edgecolor=\"black\", linewidth=1, zorder=10)\n",
        "    ax.scatter(*X[mask].T, label=\"Class 1\", facecolor=\"tab:blue\", **config)\n",
        "    ax.scatter(*X[~mask].T, label=\"Class 0\", facecolor=\"tab:orange\", **config)\n",
        "\n",
        "\n",
        "def get_grid(xlim=(-3, 3), ylim=None, N=100):\n",
        "    if ylim is None:\n",
        "        ylim = xlim\n",
        "    x_grid = np.linspace(*xlim, N)\n",
        "    y_grid = np.linspace(*ylim, N)\n",
        "    xx, yy = np.meshgrid(x_grid, y_grid)\n",
        "    X_plot = np.vstack((xx.flatten(), yy.flatten())).T\n",
        "    return xx, yy, X_plot"
      ]
    },
    {
      "cell_type": "code",
      "execution_count": 12,
      "metadata": {
        "tags": [],
        "colab": {
          "base_uri": "https://localhost:8080/",
          "height": 609
        },
        "id": "AIyHSuqlb9W-",
        "outputId": "93406f6a-e147-4550-e89f-e5d5075f9171"
      },
      "outputs": [
        {
          "output_type": "display_data",
          "data": {
            "text/plain": [
              "<Figure size 1000x600 with 1 Axes>"
            ],
            "image/png": "[encoded data removed]"
          },
          "metadata": {}
        }
      ],
      "source": [
        "data = np.loadtxt(\"https://github.com/eurecom-ds/asi-labs/raw/refs/heads/master/lab_week2/binaryclass2.csv\", delimiter=\",\")\n",
        "X = data[..., :-1]\n",
        "y = data[..., -1]\n",
        "\n",
        "fig, ax = plt.subplots(figsize=[5, 3])\n",
        "plot_data(X, y, ax)\n",
        "ax.set_title(\"Binary classification\")\n",
        "ax.legend()\n",
        "ax.set_xlim(-6, 6), ax.set_ylim(-6, 6)\n",
        "plt.show()"
      ]
    },
    {
      "cell_type": "markdown",
      "metadata": {
        "id": "l0WIA0qib9W_"
      },
      "source": [
        "Let's start by defining some probability distributions that we will need in this notebook.\n",
        "First, the Bernoulli distribution.\n",
        "\n",
        "**Exercise:**\n",
        "Complete the following class to compute the logdensity of the Bernoulli distribution. Since we will be taking gradients of this likelihood, it's possible that during optimization $p$ becomes (down to machine precision) exactly 0 or 1, which makes the evaluation of the logarithm troublesome. To avoide this behavior, simply add a small quantity (like `1e-6`) before computing the log."
      ]
    },
    {
      "cell_type": "code",
      "execution_count": 13,
      "metadata": {
        "id": "Ln_89d0Hb9W_"
      },
      "outputs": [],
      "source": [
        "def bernoulli_logdensity(y, p):\n",
        "    epsilon = 1e-6\n",
        "    p = jnp.clip(p, epsilon, 1 - epsilon)\n",
        "    # Bernoulli log-likelihood: y * log(p) + (1 - y) * log(1 - p)\n",
        "    out = y * jnp.log(p) + (1 - y) * jnp.log(1 - p)\n",
        "    return out"
      ]
    },
    {
      "cell_type": "markdown",
      "metadata": {
        "id": "1glbhvyxb9W_"
      },
      "source": [
        "Now let's move to the Gaussian distribution. Note that the parameter $\\sigma^2$ is always expected to be positive while it is possible that the optimisation algorithm attempts to evaluate the log-likelihood in regions of the parameter space where one or more of these parameters are negative, leading to numerical issues.\n",
        "A commonly-used technique to enforce this condition is to work with a transformed version of parameters using the logarithm transformation.\n",
        "In particular, define $\\psi = \\log\\sigma^2$.\n",
        "So remember to take the exponential of $\\psi$ if you want to use $\\sigma^2$.\n",
        "\n",
        "The following class implements the Gaussian distribution, with a vector of means and a vector of log-variances."
      ]
    },
    {
      "cell_type": "code",
      "execution_count": 14,
      "metadata": {
        "id": "s2Z5YRIZb9W_"
      },
      "outputs": [],
      "source": [
        "from functools import partial\n",
        "from typing import NamedTuple\n",
        "\n",
        "\n",
        "class GaussianDiagonal(NamedTuple):\n",
        "    mean: jnp.array\n",
        "    log_var: jnp.array"
      ]
    },
    {
      "cell_type": "markdown",
      "metadata": {
        "id": "49qswl-cb9W_"
      },
      "source": [
        "**Exercise**: Complete the next function to generate *one* sample from a Gaussian distribution using the reparameterization trick. Remember $p(\\boldsymbol z) = p(t(\\boldsymbol \\varepsilon;\\boldsymbol \\theta))$ where $t(\\cdot) = \\boldsymbol \\mu + \\boldsymbol \\sigma \\odot \\boldsymbol \\varepsilon$ and $\\boldsymbol \\varepsilon \\sim \\mathcal{N}(\\boldsymbol 0, \\boldsymbol I)$"
      ]
    },
    {
      "cell_type": "code",
      "execution_count": 22,
      "metadata": {
        "id": "cAXZWeeBb9W_"
      },
      "outputs": [],
      "source": [
        "def sample_gaussian_diagonal(rng, params):\n",
        "    \"\"\"\n",
        "    Sample from a Gaussian distribution with diagonal covariance.\n",
        "\n",
        "    Args:\n",
        "        rng: Random number generator key.\n",
        "        params: A named tuple containing the mean and log variance of the Gaussian.\n",
        "            mean: Mean of the Gaussian distribution.\n",
        "            log_var: Log variance of the Gaussian distribution.\n",
        "    \"\"\"\n",
        "    eps = jax.random.normal(rng, shape=params.mean.shape)\n",
        "    # invert the log-variance to get the standard deviation std\n",
        "    std = np.exp(params.log_var * 0.5)\n",
        "    # out = params.mean + params.variance * eps (standard normal noice)\n",
        "    out = params.mean + std * eps\n",
        "    return out"
      ]
    },
    {
      "cell_type": "markdown",
      "metadata": {
        "id": "MrqodAUOb9W_"
      },
      "source": [
        "**Exercise**: Create a Gaussian with two components with $\\mathcal{N}(\\boldsymbol 0, \\boldsymbol 1)$ and get one sample."
      ]
    },
    {
      "cell_type": "code",
      "execution_count": 23,
      "metadata": {
        "id": "5jqIJxX3b9W_",
        "colab": {
          "base_uri": "https://localhost:8080/"
        },
        "outputId": "448907eb-1110-49ca-9427-3d19dc669f2c"
      },
      "outputs": [
        {
          "output_type": "stream",
          "name": "stdout",
          "text": [
            "[1.6226422 2.0252647]\n"
          ]
        }
      ],
      "source": [
        "rng = jax.random.PRNGKey(0)\n",
        "p_params = GaussianDiagonal(jnp.zeros(2), jnp.zeros(2))\n",
        "print(sample_gaussian_diagonal(rng, p_params))"
      ]
    },
    {
      "cell_type": "markdown",
      "metadata": {
        "id": "XaQxb50Kb9W_"
      },
      "source": [
        "# 2. KL Divergence"
      ]
    },
    {
      "cell_type": "markdown",
      "metadata": {
        "id": "GKW4Wbdyb9W_"
      },
      "source": [
        "The expression of the KL divergence between multivariate Gaussians $q = \\mathcal{N}(\\boldsymbol{\\mu}_q, \\boldsymbol\\Sigma_q)$ and $p = \\mathcal{N}(\\boldsymbol{\\mu}_p, \\boldsymbol\\Sigma_p)$ is as follows:\n",
        "\n",
        "\\begin{equation}\n",
        "\\mathrm{KL}[q || p] =\n",
        "\\frac{1}{2} \\mathrm{Tr}(\\boldsymbol\\Sigma_p^{-1} \\boldsymbol\\Sigma_q)\n",
        "+ \\frac{1}{2} (\\boldsymbol\\mu_p - \\boldsymbol\\mu_q)^{\\top} \\boldsymbol\\Sigma_1^{-1} (\\boldsymbol\\mu_p - \\boldsymbol\\mu_q)\n",
        "- \\frac{D}{2}\n",
        "+ \\frac{1}{2} \\log\\left( \\frac{\\mathrm{det}\\boldsymbol\\Sigma_p}{\\mathrm{det}\\boldsymbol\\Sigma_q} \\right)\n",
        "\\end{equation}\n",
        "\n",
        "\n",
        "This formula simplifies when the two Gaussians have diagonal covariance, i.e. $q = \\mathcal{N}(\\boldsymbol{\\mu}_q, \\boldsymbol{\\sigma}^2_q\\mathrm{I})$ and $p = \\mathcal{N}(\\boldsymbol{\\mu}_p, \\boldsymbol{\\sigma}^2_p\\mathrm{I})$,\n",
        "\n",
        "$$\n",
        "\\mathrm{KL}[q || p] =  \\frac{1}{2} \\sum\\left( \\log \\frac{\\sigma^2_p}{\\sigma^2_q} + \\frac{\\sigma_q^2 + (\\mu_q - \\mu_p)^2}{\\sigma_p^2} - 1 \\right)\n",
        "$$\n",
        "\n",
        "\n",
        "**Exercise:**\n",
        "Complete the next function to compute the KL divergence between two multivariate Gaussian distribution with diagonal covariance. *Note:* Since we have parameterized the Gaussian distribution with the logvariance, the formula above can be simplified even further."
      ]
    },
    {
      "cell_type": "code",
      "execution_count": 24,
      "metadata": {
        "id": "7HASilc2b9W_"
      },
      "outputs": [],
      "source": [
        "def kl_diag_diag(q_params: GaussianDiagonal, p_params: GaussianDiagonal):\n",
        "    \"\"\"\n",
        "    Compute the KL divergence between two Gaussian distributions with diagonal covariance.\n",
        "\n",
        "    Args:\n",
        "        q_params: A named tuple containing the mean and log variance of the first Gaussian.\n",
        "        p_params: A named tuple containing the mean and log variance of the second Gaussian.\n",
        "    \"\"\"\n",
        "    assert isinstance(q_params, GaussianDiagonal)\n",
        "    assert isinstance(p_params, GaussianDiagonal)\n",
        "\n",
        "    p_std2 = np.exp(p_params.log_var)\n",
        "    q_std2 = np.exp(q_params.log_var)\n",
        "\n",
        "    kl = 0.5 * np.sum(np.log((p_std2 / q_std2)) + ((q_std2 + (q_params.mean - p_params.mean) ** 2) / (p_std2 ** 2)) - 1)\n",
        "    return kl"
      ]
    },
    {
      "cell_type": "markdown",
      "metadata": {
        "id": "ijKoBEJ_b9XA"
      },
      "source": [
        "**Exercise:**\n",
        "Create two identical Gaussian distributions and compute the KL divergence using the function. What's the result? Is it what you were expecting?"
      ]
    },
    {
      "cell_type": "markdown",
      "source": [
        "Answer: The KL is the same for the two Gaussians. This was expected, since KL divergence is a measure of the difference between two probability distributions."
      ],
      "metadata": {
        "id": "B4C3Rk8vZ4tZ"
      }
    },
    {
      "cell_type": "code",
      "execution_count": 26,
      "metadata": {
        "id": "_uL_wOrOb9XA",
        "colab": {
          "base_uri": "https://localhost:8080/"
        },
        "outputId": "5bc2c6fc-a170-458f-e6ba-44f30ae91f94"
      },
      "outputs": [
        {
          "output_type": "stream",
          "name": "stdout",
          "text": [
            "KL = 0.0\n"
          ]
        }
      ],
      "source": [
        "p_params = GaussianDiagonal(jnp.zeros(2), jnp.zeros(2))\n",
        "q_params = GaussianDiagonal(jnp.zeros(2), jnp.zeros(2))\n",
        "\n",
        "print(\"KL =\", kl_diag_diag(q_params, p_params))"
      ]
    },
    {
      "cell_type": "markdown",
      "metadata": {
        "id": "j6ehC9Zeb9XA"
      },
      "source": [
        "# 3. Model\n",
        "\n",
        "Now we can move to design the model. We will use a simple logistic regression very similarly to what done in the previous MCMC lab.\n",
        "This very simple model computes $h(\\boldsymbol{x}) = h(\\boldsymbol{w}^\\top\\boldsymbol{x})$, where $h(\\cdot)$ is the logistic function.\n",
        "\n",
        "**Exercise:**\n",
        "Complete the next two functions to compute (i) the logistic function and (ii) the output of the model, given a particular choice of $\\boldsymbol w$."
      ]
    },
    {
      "cell_type": "code",
      "execution_count": 28,
      "metadata": {
        "id": "BsjSv6J_b9XD"
      },
      "outputs": [],
      "source": [
        "def logistic(z):\n",
        "    \"\"\"\n",
        "    Logistic (sigmoid) function. Defined as h(z) = 1 + exp(-z)^-1\n",
        "    \"\"\"\n",
        "    out = 1 / ( 1 + jnp.exp(-z))\n",
        "    return out\n",
        "\n",
        "\n",
        "def model(w, X):\n",
        "    \"\"\"\n",
        "    Logistic regression model.\n",
        "    Args:\n",
        "        w: Model parameters.\n",
        "        X: Input data.\n",
        "    \"\"\"\n",
        "    data = jnp.dot(w.T, X)\n",
        "    out = logistic(data)\n",
        "    return out"
      ]
    },
    {
      "cell_type": "markdown",
      "metadata": {
        "tags": [],
        "id": "VbicY0cwb9XD"
      },
      "source": [
        "# 4. Variational objective\n",
        "\n",
        "The objective is to maximize this variational bound:\n",
        "$$\n",
        "      \\mathcal{L}(\\theta) = \\underbrace{\\mathbb{E}_{q_{\\theta}}\\log p(\\boldsymbol{y}|\\boldsymbol{X}, \\boldsymbol{w})}_\\text{Expected loglikelihood} -\\mathrm{KL}[{q_{\\theta}(\\boldsymbol{w})}||{p(\\boldsymbol{w})}]\n",
        "$$\n",
        "\n",
        "**Exercise:**\n",
        "Complete the next cell to compute the ELBO."
      ]
    },
    {
      "cell_type": "code",
      "execution_count": null,
      "metadata": {
        "id": "9CgmZcT7b9XD"
      },
      "outputs": [],
      "source": [
        "def create_elbo_fn(sample_fn, likelihood_fn, kl_divergence_fn):\n",
        "    \"\"\"\n",
        "    Create a function to compute the ELBO, given the function to sample\n",
        "    from the posterior, the likelihood function and the KL divergence\n",
        "\n",
        "    Args:\n",
        "        sample_fn: Function to sample from the posterior.\n",
        "        likelihood_fn: Likelihood function.\n",
        "        kl_divergence_fn: KL divergence function\n",
        "    \"\"\"\n",
        "\n",
        "    @partial(jax.vmap, in_axes=[0, None, None, None])\n",
        "    def likelihood_sample_fn(rng, q_params, X, y):\n",
        "        \"\"\"\n",
        "        Compute the log-likelihood with one Monte Carlo sample of the posterior\n",
        "        The function is decorated to vectorized multiple MC sample automatically\n",
        "\n",
        "        Args:\n",
        "            rng: Random number generator key.\n",
        "            q_params: Parameters of the posterior distribution.\n",
        "            X: Input data.\n",
        "            y: Labels.\n",
        "        \"\"\"\n",
        "        # @@ COMPLETE @@\n",
        "        # # Get one sample of w using the sample_fn and the parameters of q\n",
        "        # w =\n",
        "        # # Predict the output using the sample before\n",
        "        # yp =\n",
        "        # # Compute the likelihood and return it (remember that the data points are independent, so the likelihood is the product of the individual likelihoods, which is the ... of the individual log likelihoods)\n",
        "        # ll =\n",
        "        return ll\n",
        "\n",
        "    def elbo_fn(q_params, p_params, rng, X, y, Nmc=1):\n",
        "        \"\"\"\n",
        "        Computes the ELBO with multiple samples\n",
        "\n",
        "        Args:\n",
        "            q_params: Parameters of the posterior distribution.\n",
        "            p_params: Parameters of the prior distribution.\n",
        "            rng: Random number generator key.\n",
        "            X: Input data.\n",
        "            y: Labels.\n",
        "            Nmc: Number of Monte Carlo samples to use for the ELBO estimation.\n",
        "        \"\"\"\n",
        "        # Split the random seed in Nmc times\n",
        "        rng = jax.random.split(rng, Nmc)\n",
        "\n",
        "        # @@ COMPLETE @@\n",
        "        # # Compute the values of the elbo\n",
        "        # likelihood_vals =\n",
        "        # # Compute the expectation (i.e. take the mean)\n",
        "        # expected_likelihood =\n",
        "        # # Compute the KL divergence\n",
        "        # kl =\n",
        "        # # Compute the ELBO\n",
        "        # elbo =\n",
        "\n",
        "        # # Return the ELBO and its two term (used later for logging)\n",
        "        return elbo, (expected_likelihood, kl)\n",
        "\n",
        "    return elbo_fn"
      ]
    },
    {
      "cell_type": "markdown",
      "metadata": {
        "id": "Rzeozw4-b9XD"
      },
      "source": [
        "**Exercise:**\n",
        "Using the function above, create the function to compute the ELBO."
      ]
    },
    {
      "cell_type": "code",
      "execution_count": null,
      "metadata": {
        "id": "b6kHZ_wsb9XD"
      },
      "outputs": [],
      "source": [
        "elbo_fn = create_elbo_fn(\n",
        "    sample_fn=sample_gaussian_diagonal,\n",
        "    kl_divergence_fn=kl_diag_diag,\n",
        "    likelihood_fn=bernoulli_logdensity,\n",
        ")"
      ]
    },
    {
      "cell_type": "markdown",
      "metadata": {
        "id": "4MZ-tbBFb9XD"
      },
      "source": [
        "**Exercise:**\n",
        "Try to compute the variational objective (use 10 Monte Carlo samples)."
      ]
    },
    {
      "cell_type": "code",
      "execution_count": null,
      "metadata": {
        "id": "Gn8PIUtBb9XD"
      },
      "outputs": [],
      "source": [
        "# @@ COMPLETE @@\n",
        "# elbo, (likelihood, kl) =\n",
        "\n",
        "print(\"ELBO =\", elbo)\n",
        "print(\"Likelihood =\", likelihood)\n",
        "print(\"KL =\", kl)"
      ]
    },
    {
      "cell_type": "markdown",
      "metadata": {
        "id": "Kx7Z0bbQb9XD"
      },
      "source": [
        "## 4.1 Analysis of the MC estimate of the ELBO"
      ]
    },
    {
      "cell_type": "markdown",
      "metadata": {
        "id": "Siw-h1B2b9XD"
      },
      "source": [
        "Ok, now that everything is done and ready we can start to make some analysis.\n",
        "\n",
        "First of all, as we said we don't have an analytical formula for the variational objective (our loss). We can only access (unbiased) samples, hence the next question.\n",
        "\n",
        "**Exercise:**\n",
        "Try to sample using 100 different random seeds the ELBO with [2, 10, 100, 1000] MC samples and plot their distribution with boxplots."
      ]
    },
    {
      "cell_type": "code",
      "execution_count": null,
      "metadata": {
        "id": "vqpZHxItb9XD"
      },
      "outputs": [],
      "source": [
        "elbo_samples = pd.DataFrame()\n",
        "n_repetition = 100\n",
        "\n",
        "for Nmc in [2, 10, 100, 1000]:\n",
        "    elbo_samples[Nmc] = np.stack(\n",
        "        [\n",
        "            elbo_fn(q_params, p_params, jax.random.PRNGKey(i), X, y, Nmc=Nmc)[0]\n",
        "            for i in range(n_repetition)\n",
        "        ]\n",
        "    )"
      ]
    },
    {
      "cell_type": "code",
      "execution_count": null,
      "metadata": {
        "id": "tYdqGy2lb9XE"
      },
      "outputs": [],
      "source": [
        "fig, ax = plt.subplots(figsize=[8, 4])\n",
        "sns.boxplot(data=elbo_samples, whis=np.inf)\n",
        "ax.set_title(\"Samples of the MC estimate of the ELBO\")\n",
        "ax.set_xlabel(\"Number of MC samples\")\n",
        "ax.set_ylabel(\"ELBO\")\n",
        "ax.margins(0, 0.05)\n",
        "\n",
        "plt.show()"
      ]
    },
    {
      "cell_type": "markdown",
      "metadata": {
        "id": "0_nL4eJTb9XE"
      },
      "source": [
        "We said that, in case of large datasets, this can be computationally challenging, due to the evaluation of the likelihood $N_\\mathrm{MC}$ times.\n",
        "But we know that the ELBO can be approximated even further using mini-batching.\n",
        "Taking a random subset of data $\\mathcal{B}$, the approximation becomes\n",
        "\n",
        "$$\n",
        "    \\mathbb{E}_{q_{\\theta}}\\log p(\\boldsymbol{y}|\\boldsymbol{X}, \\boldsymbol{w}) \\approx \\dfrac{1}{N_\\mathrm{MC}} \\frac{N}{|\\mathcal{B}|}\\sum_{\\tilde{\\boldsymbol{w}}_i\\sim q_\\theta} \\sum_{\\boldsymbol{X}_j, \\boldsymbol{y}_j\\sim\\mathcal{B}} \\log p(\\boldsymbol{y}_j|\\boldsymbol{X}_j, \\tilde{\\boldsymbol{w}}_i)\n",
        "$$\n",
        "\n",
        "This introduces even more variance in the estimate of the ELBO but it allows to scale to (virtually) any sized dataset.\n",
        "You are free to extend this to our ELBO estimator, but for the simple example we are using today, this is not required."
      ]
    },
    {
      "cell_type": "markdown",
      "metadata": {
        "id": "8YoQBHsrb9XE"
      },
      "source": [
        "# 5. Optimization\n",
        "\n",
        "Ok, now we can move to the optimization of the ELBO:\n",
        "$$\n",
        "\\boldsymbol \\theta_{t+1} = \\boldsymbol \\theta_t + \\text{lr}\\cdot(\\nabla_{\\boldsymbol \\theta} \\mathcal{L})(\\boldsymbol \\theta_t)\n",
        "$$\n",
        "Below you have a simple function to implement this update"
      ]
    },
    {
      "cell_type": "code",
      "execution_count": null,
      "metadata": {
        "id": "eBCMm1ugb9XE"
      },
      "outputs": [],
      "source": [
        "def sgd_update(params, gradients, learning_rate=1e-3):\n",
        "    \"\"\"\n",
        "    Perform a stochastic gradient ascent update on the parameters.\n",
        "    Args:\n",
        "        params: Parameters to be updated.\n",
        "        gradients: Gradients of the parameters.\n",
        "        learning_rate: Learning rate for the update.\n",
        "    \"\"\"\n",
        "    updated_params = jax.tree.map(lambda p, g: p + learning_rate * g, params, gradients)\n",
        "    return updated_params"
      ]
    },
    {
      "cell_type": "markdown",
      "metadata": {
        "id": "BuYho8I-b9XF"
      },
      "source": [
        "And here the function to compute the gradient (this function will also be compiled using `jax.jit` for better optimization and faster running times)."
      ]
    },
    {
      "cell_type": "code",
      "execution_count": null,
      "metadata": {
        "id": "mWTjJFEqb9XF"
      },
      "outputs": [],
      "source": [
        "grad_elbo_fn = jax.grad(elbo_fn, has_aux=True)\n",
        "grad_elbo_fn = jax.jit(grad_elbo_fn, static_argnames=(\"Nmc\"))"
      ]
    },
    {
      "cell_type": "markdown",
      "metadata": {
        "id": "UkHqXcXdb9XF"
      },
      "source": [
        "**Exercise:**\n",
        "Write the training loop to optimize the ELBO (use a learning rate of $10^{-3}$). At every step, store the value of the ELBO, of the expected likelihood and the KL."
      ]
    },
    {
      "cell_type": "code",
      "execution_count": null,
      "metadata": {
        "id": "5sP44p2ab9XF"
      },
      "outputs": [],
      "source": [
        "rng = jax.random.PRNGKey(0)\n",
        "q_params = GaussianDiagonal(jnp.zeros(2), jnp.zeros(2))\n",
        "\n",
        "elbo_summary = [] # Keep track of the ELBO\n",
        "lik_summary = [] # Keep track of the likelihood\n",
        "kl_summary = [] # Keep track of the KL divergence\n",
        "\n",
        "for i in tqdm(range(10000), desc=\"Training ELBO\"):\n",
        "    rng, rng2 = jax.random.split(rng)\n",
        "    q_params_grad, (likelihood, kl) = grad_elbo_fn(q_params, p_params, rng2, X, y, 100)\n",
        "    q_params = sgd_update(q_params, q_params_grad, 1e-3)\n",
        "\n",
        "    lik_summary.append(likelihood)\n",
        "    kl_summary.append(kl)\n",
        "    elbo_summary.append(likelihood - kl)"
      ]
    },
    {
      "cell_type": "code",
      "execution_count": null,
      "metadata": {
        "id": "7LUzxhbXb9XF"
      },
      "outputs": [],
      "source": [
        "print(\"Converged posterior\")\n",
        "print(\"Mean =\", q_params.mean)\n",
        "print(\"Var =\", np.exp(q_params.log_var))"
      ]
    },
    {
      "cell_type": "markdown",
      "metadata": {
        "id": "6ywDZTRhb9XF"
      },
      "source": [
        "**Exercise:**\n",
        "Assess convergence of the optimization by plotting the three metrics."
      ]
    },
    {
      "cell_type": "code",
      "execution_count": null,
      "metadata": {
        "id": "RghpTqE2b9XF"
      },
      "outputs": [],
      "source": [
        "fig, (ax0, ax1, ax2) = plt.subplots(1, 3, figsize=[8, 2.5])\n",
        "\n",
        "ax0.plot(elbo_summary, label=\"ELBO\")\n",
        "ax1.plot(\n",
        "    lik_summary,\n",
        "    color=\"tab:orange\",\n",
        "    label=r\"$E_{q(\\mathbf{w})} \\log p(\\mathbf{y}|\\mathbf{X},\\mathbf{w})$\",\n",
        ")\n",
        "ax2.plot(\n",
        "    kl_summary,\n",
        "    color=\"tab:green\",\n",
        "    label=r\"$\\mathrm{KL}[{q(\\mathbf{w})}||{p(\\mathbf{w})}]$\",\n",
        ")\n",
        "\n",
        "ax0.semilogx()\n",
        "ax1.semilogx()\n",
        "ax2.semilogx()\n",
        "\n",
        "ax0.axhline(-2.68, color=\"xkcd:red\", label=r\"$\\log p(\\mathbf{y}|\\mathbf{X})$\")\n",
        "ax0.legend(bbox_to_anchor=(1.05, -0.05), loc=\"lower right\")\n",
        "ax1.legend(bbox_to_anchor=(1.05, -0.05), loc=\"lower right\")\n",
        "ax2.legend(bbox_to_anchor=(1.05, -0.05), loc=\"lower right\")\n",
        "\n",
        "ax0.set_xlabel(\"Iteration\")\n",
        "ax1.set_xlabel(\"Iteration\")\n",
        "ax2.set_xlabel(\"Iteration\")\n",
        "\n",
        "plt.show()"
      ]
    },
    {
      "cell_type": "markdown",
      "metadata": {
        "id": "nFdIsyyqb9XF"
      },
      "source": [
        "**Question:**\n",
        "Analyze the behaviour of these three values and comment the plots. Focus you analysis on the breakdown of the ELBO in its parts."
      ]
    },
    {
      "cell_type": "markdown",
      "metadata": {
        "id": "xpQ6BmCQb9XF"
      },
      "source": [
        "### Making predictions\n",
        "Now that we have trained the model, we can use it to make predictions on new data.\n",
        "\n",
        "\n",
        "\\begin{equation}\n",
        "\\mathbb{E}_{q(\\boldsymbol{w})}h(\\boldsymbol{w}^\\top\\boldsymbol{x}_\\mathrm{new}) = \\int h(\\boldsymbol{w}^\\top\\boldsymbol{x}_\\mathrm{new}) q(\\boldsymbol{w}) \\mathrm{d}\\boldsymbol{w}\n",
        "\\end{equation}\n",
        "\n",
        "\n",
        "With 1000 samples, compute the probability $P (y_\\mathrm{new} = 1 | \\boldsymbol{x}_\\mathrm{new}, \\boldsymbol{X}, \\boldsymbol{y})$ when $\\boldsymbol{x}_\\mathrm{new} = [2,-4]^\\top$. Compare the result with the number you got from the previous lab.\n"
      ]
    },
    {
      "cell_type": "code",
      "execution_count": null,
      "metadata": {
        "id": "gfz0RdULb9XF"
      },
      "outputs": [],
      "source": [
        "def predict_y(sample_fn, q_params, Xt, rng, Nmc=10):\n",
        "    \"\"\"\n",
        "    Compute the outputs of the model by sampling the posterior, then take the expectation\n",
        "\n",
        "    Args:\n",
        "        sample_fn: Function to sample from the posterior.\n",
        "        q_params: Parameters of the posterior distribution.\n",
        "        Xt: Input data for prediction.\n",
        "        rng: Random number generator key.\n",
        "        Nmc: Number of Monte Carlo samples to use for the prediction.\n",
        "    \"\"\"\n",
        "\n",
        "    @jax.vmap\n",
        "    def predict_y_single(rng):\n",
        "        \"\"\"\n",
        "        Predict the output for a single sample of the posterior.\n",
        "\n",
        "        Note: This function is vectorized to allow for multiple samples of the posterior.\n",
        "        \"\"\"\n",
        "        # @@ COMPLETE @@\n",
        "        # w =\n",
        "        # yp =\n",
        "        return yp\n",
        "\n",
        "    rng = jax.random.split(rng, Nmc)\n",
        "    Xt = jnp.atleast_1d(Xt)\n",
        "    # @@ COMPLETE @@\n",
        "    ## Compute the predictions for all the samples\n",
        "    # yp_samples =\n",
        "    ## Compute the mean of the predictions\n",
        "    # yp =\n",
        "    return yp\n",
        "\n",
        "\n",
        "yp = predict_y(sample_gaussian_diagonal, q_params, [2, -4], rng, Nmc=1000)\n",
        "print(yp)"
      ]
    },
    {
      "cell_type": "markdown",
      "metadata": {
        "id": "zTUcIHG-b9XF"
      },
      "source": [
        "**Execise:**\n",
        "Let's now plot the distribution at convergence and the predictions on a grid of points."
      ]
    },
    {
      "cell_type": "code",
      "execution_count": null,
      "metadata": {
        "id": "6v07HIc9b9XG"
      },
      "outputs": [],
      "source": [
        "import scipy.stats\n",
        "\n",
        "\n",
        "def plot_gaussian(params, **kwargs):\n",
        "    ax = kwargs.pop(\"ax\", plt.gca())\n",
        "    xx, yy, w_plot = get_grid(xlim=(-1.5, 5.5), N=250)\n",
        "    if isinstance(params, GaussianDiagonal):\n",
        "        cov = np.exp(params.log_var) * np.eye(2)\n",
        "    else:\n",
        "        cov = params.L @ params.L.T\n",
        "    zz = (\n",
        "        scipy.stats.multivariate_normal(mean=params.mean, cov=cov)\n",
        "        .pdf(w_plot)\n",
        "        .reshape(*xx.shape)\n",
        "    )\n",
        "\n",
        "    levels = np.linspace(1e-5, np.max(zz), 10)\n",
        "    ax.contourf(xx, yy, zz, cmap=\"cividis\", alpha=0.8, levels=levels)\n",
        "    ax.contour(xx, yy, zz, cmap=\"cividis\", levels=levels)\n",
        "\n",
        "    ax.set_xlabel(r\"$\\boldsymbol{w}_0$\")\n",
        "    ax.set_ylabel(r\"$\\boldsymbol{w}_1$\")\n",
        "\n",
        "\n",
        "def plot_posterior(ax):\n",
        "    xx, yy, w_plot = get_grid(xlim=(-1.5, 5.5), N=250)\n",
        "    zz = np.zeros(len(w_plot))\n",
        "    for i, w in enumerate(w_plot):\n",
        "        zz[i] = bernoulli_logdensity(y, model(w, X)).sum() -0.5* w.T@w\n",
        "    zz = np.exp(zz).reshape(*xx.shape)\n",
        "    levels = np.linspace(1e-5, np.max(zz), 10)\n",
        "    ax.contourf(xx, yy, zz, cmap=\"cividis\", alpha=0.8, levels=levels)\n",
        "    ax.contour(xx, yy, zz, cmap=\"cividis\", levels=levels)\n",
        "    ax.set_xlabel(r\"$\\boldsymbol{w}_0$\")\n",
        "    ax.set_ylabel(r\"$\\boldsymbol{w}_1$\")"
      ]
    },
    {
      "cell_type": "code",
      "execution_count": null,
      "metadata": {
        "id": "AjXvaZe6b9XG"
      },
      "outputs": [],
      "source": [
        "fig, (ax0, ax1, ax2) = plt.subplots(1, 3, figsize=[12, 4])\n",
        "\n",
        "plot_gaussian(p_params, ax=ax0)\n",
        "plot_posterior(ax=ax1)\n",
        "plot_gaussian(q_params, ax=ax2)\n",
        "\n",
        "ax0.set_title(\"Prior\")\n",
        "ax1.set_title(\"True posterior\")\n",
        "ax2.set_title(\"Variational approx.\")\n",
        "\n",
        "plt.show()"
      ]
    },
    {
      "cell_type": "code",
      "execution_count": null,
      "metadata": {
        "id": "TDrHbysDb9XG"
      },
      "outputs": [],
      "source": [
        "def plot_decision_boundary(xx, yy, P, ax):\n",
        "    P = P.reshape(*xx.shape)\n",
        "    levels = [0, 0.05, 0.1, 0.25, 0.5, 0.75, 0.9, 0.95, 1]\n",
        "    cs = ax.contour(xx, yy, P, levels, colors=\"k\", linewidths=1.8, zorder=100)\n",
        "    ax.clabel(cs, inline=1, fontsize=10)\n",
        "    cs = ax.contourf(xx, yy, P, levels, cmap=\"Purples_r\", alpha=0.5)\n",
        "\n",
        "\n",
        "xx, yy, Xt = get_grid((-7, 7), N=50)\n",
        "ps = predict_y(sample_gaussian_diagonal, q_params, Xt, rng, Nmc=1000)\n",
        "\n",
        "fig, ax = plt.subplots(figsize=[5, 4])\n",
        "plot_decision_boundary(xx, yy, ps, ax=ax)\n",
        "plot_data(X, y, ax=ax)\n",
        "\n",
        "ax.set_xlabel(r\"$\\boldsymbol{x}_0$\")\n",
        "ax.set_ylabel(r\"$\\boldsymbol{x}_1$\")\n",
        "ax.set_title(\"Predictive density\")\n",
        "plt.show()"
      ]
    },
    {
      "cell_type": "markdown",
      "metadata": {
        "id": "e4EnZ8dhb9XG"
      },
      "source": [
        "**Exercise:**\n",
        "At convergence, sample 1000 times the ELBO like we did before, and plot it with a boxplot."
      ]
    },
    {
      "cell_type": "code",
      "execution_count": null,
      "metadata": {
        "id": "EBuE4yx4b9XG"
      },
      "outputs": [],
      "source": [
        "converged_elbos = pd.DataFrame()\n",
        "n_repetition = 1000\n",
        "converged_elbos[\"Diagonal posterior\"] = np.stack(\n",
        "    [\n",
        "        elbo_fn(q_params, p_params, jax.random.PRNGKey(i), X, y, Nmc=1000)[0]\n",
        "        for i in range(n_repetition)\n",
        "    ]\n",
        ")"
      ]
    },
    {
      "cell_type": "code",
      "execution_count": null,
      "metadata": {
        "id": "waIL-c1Xb9XG"
      },
      "outputs": [],
      "source": [
        "fig, ax = plt.subplots(figsize=[4, 3])\n",
        "sns.boxplot(\n",
        "    data=converged_elbos,\n",
        "    whis=np.inf,\n",
        ")\n",
        "ax.axhline(-2.68, color=\"xkcd:red\", label=r\"$p(\\boldsymbol{y}|\\boldsymbol{X})$\")\n",
        "ax.set_title(\"ELBO at convergence\", y=1.02)\n",
        "ax.legend()\n",
        "plt.show()"
      ]
    },
    {
      "cell_type": "markdown",
      "metadata": {
        "id": "vcb78UBLb9XG"
      },
      "source": [
        "# 6. Alternatives to Mean Field Variational Inference\n",
        "\n",
        "As we saw from one of the previous question, the approximation that we used is very rough: it recoves some properties of the true posterior but fails to capture the strong correlation that exists in the parameter space.\n",
        "What we need to do it to increase the complexity and the expressiveness of the variational posterior.\n",
        "The first step that we can do is to introduce a non-diagonal covariance $\\boldsymbol{w} \\sim \\mathcal{N}(\\mu, \\Sigma)$, where the covariance $\\Sigma=LL^\\top$ ($L$ is a lower triangular matrix).\n",
        "\n",
        "Sampling from such distribution is possible again using the reparameterization trick,\n",
        "\n",
        "\\begin{equation}\n",
        "\\tilde{\\boldsymbol{w}} = \\mu + \\mathrm{Tril}(L)\\boldsymbol{\\varepsilon} \\quad \\boldsymbol{\\varepsilon} \\sim \\mathcal{N}(0, \\mathrm{I})\n",
        "\\end{equation}\n",
        "\n",
        "where $\\mathrm{Tril}(\\cdot)$ returns the lower triangular part of the matrix (the other elements are set to 0).\n",
        "\n",
        "**Exercise:**\n",
        "Complete the next functions to model a full covariance Gaussian distribution."
      ]
    },
    {
      "cell_type": "code",
      "execution_count": null,
      "metadata": {
        "id": "R6CVmMRBb9XH"
      },
      "outputs": [],
      "source": [
        "class GaussianFullCov(NamedTuple):\n",
        "    mean: jnp.array\n",
        "    L: jnp.array\n",
        "\n",
        "\n",
        "def sample_gaussian_fullcov(key, params: GaussianFullCov):\n",
        "    \"\"\"\n",
        "    Sample from a Gaussian distribution with full covariance.\n",
        "\n",
        "    Args:\n",
        "        key: Random number generator key.\n",
        "        params: A named tuple containing the mean and Cholesky factor of the Gaussian.\n",
        "    \"\"\"\n",
        "    #@@ COMPLETE @@\n",
        "    # eps =\n",
        "    # out =\n",
        "    return out"
      ]
    },
    {
      "cell_type": "markdown",
      "metadata": {
        "id": "W7pt2CXUb9XH"
      },
      "source": [
        "**Exercise:** Try to sample from the distribution and print the result."
      ]
    },
    {
      "cell_type": "code",
      "execution_count": null,
      "metadata": {
        "id": "kKu-_5b5b9XH"
      },
      "outputs": [],
      "source": [
        "q_params = GaussianFullCov(jnp.zeros(2), jnp.eye(2))\n",
        "\n",
        "print(sample_gaussian_fullcov(jax.random.PRNGKey(1), q_params))"
      ]
    },
    {
      "cell_type": "markdown",
      "metadata": {
        "id": "0T1VSfEib9XH"
      },
      "source": [
        "Now we need to compute the KL divergence between $q$ Gaussian with full covariance and $p$ Gaussian with diagonal covariance.\n",
        "Remember that the expression of the KL divergence between multivariate Gaussians $q = \\mathcal{N}(\\boldsymbol{\\mu}_q, \\Sigma_q)$ and $p = \\mathcal{N}(\\boldsymbol{\\mu}_p, \\Sigma_p)$ is as follows:\n",
        "\n",
        "\\begin{equation}\n",
        "\\mathrm{KL}[q || p] =\n",
        "\\frac{1}{2} \\mathrm{Tr}(\\Sigma_p^{-1} \\Sigma_q)\n",
        "+ \\frac{1}{2} (\\mu_p - \\mu_q)^{\\top} \\Sigma_p^{-1} (\\mu_p - \\mu_q)\n",
        "- \\frac{D}{2}\n",
        "+ \\frac{1}{2} \\log\\left( \\frac{\\mathrm{det}\\Sigma_p}{\\mathrm{det}\\Sigma_q} \\right)\n",
        "\\end{equation}\n",
        "\n",
        "**Question:**\n",
        "Given that $q = \\mathcal{N}(\\boldsymbol{\\mu}_q, LL^\\top)$ and $p = \\mathcal{N}(\\boldsymbol{\\mu}_p, \\sigma^2_p\\mathrm{I})$, write the simplified KL divergence.\n",
        "\n",
        "*Hints:*\n",
        "\n",
        "- $\\mathrm{Tr}(\\boldsymbol L \\boldsymbol L^\\top) = \\sum_i\\mathrm{diag}(\\boldsymbol L)_i^2$\n",
        "\n",
        "- $\\log\\mathrm{det}(\\boldsymbol L\\boldsymbol L^\\top) = \\sum_i\\log\\mathrm{diag}(\\boldsymbol L)_i^2$\n"
      ]
    },
    {
      "cell_type": "markdown",
      "metadata": {
        "id": "pBh62rilb9XH"
      },
      "source": [
        "Below, you'll find the KL implemented."
      ]
    },
    {
      "cell_type": "code",
      "execution_count": null,
      "metadata": {
        "id": "2Ap09SMJb9XH"
      },
      "outputs": [],
      "source": [
        "def kl_full_diag(q_params: GaussianFullCov, p_params: GaussianDiagonal):\n",
        "    \"\"\"\n",
        "    Compute the KL divergence between a Gaussian distribution with full covariance\n",
        "    and a Gaussian distribution with diagonal covariance.\n",
        "    Args:\n",
        "        q_params: A named tuple containing the mean and Cholesky factor of the first Gaussian.\n",
        "        p_params: A named tuple containing the mean and log variance of the second Gaussian.\n",
        "    \"\"\"\n",
        "    #@@ COMPLETE @@\n",
        "    # kl =\n",
        "    return kl"
      ]
    },
    {
      "cell_type": "code",
      "execution_count": null,
      "metadata": {
        "id": "sguo1NZ7b9XH"
      },
      "outputs": [],
      "source": [
        "print(kl_full_diag(q_params, p_params))"
      ]
    },
    {
      "cell_type": "markdown",
      "metadata": {
        "id": "LrkZSC0Tb9XI"
      },
      "source": [
        "**Exercise:**\n",
        "Create the a new elbo to use Gaussian with full covariance. Because we wrote the code for computing the ELBO to be as modular as possible, you can simply change the KL divergence function and the sampling function and everything else will work."
      ]
    },
    {
      "cell_type": "code",
      "execution_count": null,
      "metadata": {
        "id": "usHtijX1b9XI"
      },
      "outputs": [],
      "source": [
        "# @@ COMPLETE @@\n",
        "elbo_fn = create_elbo_fn(\n",
        ")"
      ]
    },
    {
      "cell_type": "markdown",
      "metadata": {
        "id": "Y6cnj_4Vb9XI"
      },
      "source": [
        "**Exercise:**\n",
        "Train this new model exactly the same as before"
      ]
    },
    {
      "cell_type": "code",
      "execution_count": null,
      "metadata": {
        "id": "3Wy-XYC7b9XI"
      },
      "outputs": [],
      "source": [
        "grad_elbo_fn = jax.grad(elbo_fn, has_aux=True)\n",
        "grad_elbo_fn = jax.jit(grad_elbo_fn, static_argnames=(\"Nmc\"))"
      ]
    },
    {
      "cell_type": "code",
      "execution_count": null,
      "metadata": {
        "id": "GMchum2Cb9XI"
      },
      "outputs": [],
      "source": [
        "rng = jax.random.PRNGKey(0)\n",
        "q_params = GaussianFullCov(jnp.zeros(2), jnp.eye(2))\n",
        "\n",
        "elbo_summary = []\n",
        "lik_summary = []\n",
        "kl_summary = []\n",
        "\n",
        "for i in tqdm(range(10000), desc=\"Training ELBO\"):\n",
        "    rng, rng2 = jax.random.split(rng)\n",
        "    q_params_grad, (likelihood, kl) = grad_elbo_fn(\n",
        "        q_params, p_params, rng2, X, y, 100\n",
        "    )\n",
        "    q_params = sgd_update(q_params, q_params_grad, 1e-3)\n",
        "\n",
        "    lik_summary.append(likelihood)\n",
        "    kl_summary.append(kl)\n",
        "    elbo_summary.append(likelihood - kl)"
      ]
    },
    {
      "cell_type": "markdown",
      "metadata": {
        "id": "1gTNIK-yb9XI"
      },
      "source": [
        "**Exercise:**\n",
        "Plot the train curves"
      ]
    },
    {
      "cell_type": "code",
      "execution_count": null,
      "metadata": {
        "id": "DU8_3ozSb9XI"
      },
      "outputs": [],
      "source": [
        "fig, (ax0, ax1, ax2) = plt.subplots(1, 3, figsize=[8, 2.5])\n",
        "\n",
        "ax0.plot(elbo_summary, label=\"ELBO\")\n",
        "ax1.plot(\n",
        "    lik_summary,\n",
        "    color=\"tab:orange\",\n",
        "    label=r\"$E_{q(\\boldsymbol{w})} \\log p(\\boldsymbol{y}|\\boldsymbol{X},\\boldsymbol{w})$\",\n",
        ")\n",
        "ax2.plot(\n",
        "    kl_summary,\n",
        "    color=\"tab:green\",\n",
        "    label=r\"$\\mathrm{KL}[{q(\\boldsymbol{w})}||{p(\\boldsymbol{w})}]$\",\n",
        ")\n",
        "\n",
        "ax0.semilogx()\n",
        "ax1.semilogx()\n",
        "ax2.semilogx()\n",
        "\n",
        "ax0.axhline(-2.68, color=\"xkcd:red\", label=r\"$\\log p(\\boldsymbol{y}|\\boldsymbol{X})$\")\n",
        "ax0.legend(bbox_to_anchor=(1.05, -0.05), loc=\"lower right\")\n",
        "ax1.legend(bbox_to_anchor=(1.05, -0.05), loc=\"lower right\")\n",
        "ax2.legend(bbox_to_anchor=(1.05, -0.05), loc=\"lower right\")\n",
        "\n",
        "ax0.set_xlabel(\"Iteration\")\n",
        "ax1.set_xlabel(\"Iteration\")\n",
        "ax2.set_xlabel(\"Iteration\")\n",
        "\n",
        "plt.show()"
      ]
    },
    {
      "cell_type": "markdown",
      "metadata": {
        "id": "nFj6CoTEb9XJ"
      },
      "source": [
        "**Exercise:**\n",
        "Plot the densities."
      ]
    },
    {
      "cell_type": "code",
      "execution_count": null,
      "metadata": {
        "id": "oOb7ol3bb9XJ"
      },
      "outputs": [],
      "source": [
        "fig, (ax0, ax1, ax2) = plt.subplots(1, 3, figsize=[12, 4])\n",
        "\n",
        "plot_gaussian(p_params, ax=ax0)\n",
        "plot_posterior(ax=ax1)\n",
        "plot_gaussian(q_params, ax=ax2)\n",
        "\n",
        "ax0.set_title(\"Prior\")\n",
        "ax1.set_title(\"True posterior\")\n",
        "ax2.set_title(\"Variational approx.\")\n",
        "\n",
        "plt.show()"
      ]
    },
    {
      "cell_type": "markdown",
      "metadata": {
        "id": "isBotktCb9XJ"
      },
      "source": [
        "**Exercise:**\n",
        "Plot the predictions."
      ]
    },
    {
      "cell_type": "code",
      "execution_count": null,
      "metadata": {
        "id": "M6Jh1D9xb9XJ"
      },
      "outputs": [],
      "source": [
        "xx, yy, Xt = get_grid((-7, 7), N=50)\n",
        "ps = predict_y(sample_gaussian_fullcov, q_params, Xt, rng, Nmc=1000)\n",
        "\n",
        "fig, ax = plt.subplots(figsize=[5, 4])\n",
        "plot_decision_boundary(xx, yy, ps, ax=ax)\n",
        "plot_data(X, y, ax=ax)\n",
        "\n",
        "ax.set_xlabel(r\"$\\boldsymbol{x}_0$\")\n",
        "ax.set_ylabel(r\"$\\boldsymbol{x}_1$\")\n",
        "ax.set_title(\"Predictive density\")\n",
        "plt.show()"
      ]
    },
    {
      "cell_type": "markdown",
      "metadata": {
        "id": "e2E40fynb9XJ"
      },
      "source": [
        "**Exercise:**\n",
        "Plot the ELBO at convergence."
      ]
    },
    {
      "cell_type": "code",
      "execution_count": null,
      "metadata": {
        "id": "AUL9LsUlb9XJ"
      },
      "outputs": [],
      "source": [
        "converged_elbos[\"Full cov. posterior\"] = np.stack(\n",
        "    [\n",
        "        elbo_fn(q_params, p_params, jax.random.PRNGKey(i), X, y, Nmc=1000)[0]\n",
        "        for i in range(n_repetition)\n",
        "    ]\n",
        ")\n",
        "fig, ax = plt.subplots(figsize=[4, 3])\n",
        "sns.boxplot(data=converged_elbos, whis=np.inf)\n",
        "ax.axhline(-2.68, color=\"xkcd:red\", label=r\"$p(\\boldsymbol{y}|\\boldsymbol{X})$\")\n",
        "ax.set_title(\"ELBO at convergence\", y=1.02)\n",
        "ax.legend()\n",
        "plt.show()"
      ]
    },
    {
      "cell_type": "markdown",
      "metadata": {
        "id": "vmO3qw20b9XJ"
      },
      "source": [
        "**Question:**\n",
        "Do you observe something interesting?\n",
        "Remember what the ELBO represents. It is the lower bound of the marginal distribution $p(\\boldsymbol{y}|\\boldsymbol{X})$. Check the first lab on Bayesian linear regression if you don't remember what the marginal distribution measures. Based solely on this value, which model would you choose? Why?    "
      ]
    },
    {
      "cell_type": "markdown",
      "metadata": {
        "id": "g6BfXVqHb9XJ"
      },
      "source": []
    },
    {
      "cell_type": "markdown",
      "metadata": {
        "id": "ibKqY-pbb9XJ"
      },
      "source": []
    }
  ],
  "metadata": {
    "celltoolbar": "Slideshow",
    "kernelspec": {
      "display_name": ".venv",
      "language": "python",
      "name": "python3"
    },
    "language_info": {
      "codemirror_mode": {
        "name": "ipython",
        "version": 3
      },
      "file_extension": ".py",
      "mimetype": "text/x-python",
      "name": "python",
      "nbconvert_exporter": "python",
      "pygments_lexer": "ipython3",
      "version": "3.12.9"
    },
    "rise": {
      "scroll": true,
      "theme": "sky"
    },
    "toc-autonumbering": false,
    "colab": {
      "provenance": []
    }
  },
  "nbformat": 4,
  "nbformat_minor": 0
}